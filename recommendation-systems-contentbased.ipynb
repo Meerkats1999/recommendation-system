{
 "cells": [
  {
   "cell_type": "code",
   "execution_count": 1,
   "metadata": {},
   "outputs": [
    {
     "data": {
      "text/plain": [
       "0    In the 22nd century, a paraplegic Marine is di...\n",
       "1    Captain Barbossa, long believed to be dead, ha...\n",
       "2    A cryptic message from Bond’s past sends him o...\n",
       "3    Following the death of District Attorney Harve...\n",
       "4    John Carter is a war-weary, former military ca...\n",
       "Name: overview, dtype: object"
      ]
     },
     "execution_count": 1,
     "metadata": {},
     "output_type": "execute_result"
    }
   ],
   "source": [
    "import pandas as pd\n",
    "movies_df = pd.read_csv('movies.csv')\n",
    "movies_df['overview'].head()"
   ]
  },
  {
   "cell_type": "code",
   "execution_count": 2,
   "metadata": {},
   "outputs": [
    {
     "data": {
      "text/plain": [
       "(4803, 20978)"
      ]
     },
     "execution_count": 2,
     "metadata": {},
     "output_type": "execute_result"
    }
   ],
   "source": [
    "from sklearn.feature_extraction.text import TfidfVectorizer\n",
    "tfidf = TfidfVectorizer(stop_words='english')\n",
    "movies_df['overview'] = movies_df['overview'].fillna('')\n",
    "tfidf_matrix = tfidf.fit_transform(movies_df['overview'])\n",
    "tfidf_matrix.shape"
   ]
  },
  {
   "cell_type": "code",
   "execution_count": 3,
   "metadata": {},
   "outputs": [
    {
     "data": {
      "text/plain": [
       "array([[1.        , 0.        , 0.        , ..., 0.        , 0.        ,\n",
       "        0.        ],\n",
       "       [0.        , 1.        , 0.        , ..., 0.02160533, 0.        ,\n",
       "        0.        ],\n",
       "       [0.        , 0.        , 1.        , ..., 0.01488159, 0.        ,\n",
       "        0.        ],\n",
       "       ...,\n",
       "       [0.        , 0.02160533, 0.01488159, ..., 1.        , 0.01609091,\n",
       "        0.00701914],\n",
       "       [0.        , 0.        , 0.        , ..., 0.01609091, 1.        ,\n",
       "        0.01171696],\n",
       "       [0.        , 0.        , 0.        , ..., 0.00701914, 0.01171696,\n",
       "        1.        ]])"
      ]
     },
     "execution_count": 3,
     "metadata": {},
     "output_type": "execute_result"
    }
   ],
   "source": [
    "from sklearn.metrics.pairwise import linear_kernel\n",
    "cos_similarity = linear_kernel(tfidf_matrix, tfidf_matrix)\n",
    "cos_similarity"
   ]
  },
  {
   "cell_type": "code",
   "execution_count": 4,
   "metadata": {},
   "outputs": [
    {
     "data": {
      "text/plain": [
       "original_title\n",
       "Avatar                                            0\n",
       "Pirates of the Caribbean: At World's End          1\n",
       "Spectre                                           2\n",
       "The Dark Knight Rises                             3\n",
       "John Carter                                       4\n",
       "Spider-Man 3                                      5\n",
       "Tangled                                           6\n",
       "Avengers: Age of Ultron                           7\n",
       "Harry Potter and the Half-Blood Prince            8\n",
       "Batman v Superman: Dawn of Justice                9\n",
       "Superman Returns                                 10\n",
       "Quantum of Solace                                11\n",
       "Pirates of the Caribbean: Dead Man's Chest       12\n",
       "The Lone Ranger                                  13\n",
       "Man of Steel                                     14\n",
       "The Chronicles of Narnia: Prince Caspian         15\n",
       "The Avengers                                     16\n",
       "Pirates of the Caribbean: On Stranger Tides      17\n",
       "Men in Black 3                                   18\n",
       "The Hobbit: The Battle of the Five Armies        19\n",
       "The Amazing Spider-Man                           20\n",
       "Robin Hood                                       21\n",
       "The Hobbit: The Desolation of Smaug              22\n",
       "The Golden Compass                               23\n",
       "King Kong                                        24\n",
       "Titanic                                          25\n",
       "Captain America: Civil War                       26\n",
       "Battleship                                       27\n",
       "Jurassic World                                   28\n",
       "Skyfall                                          29\n",
       "                                               ... \n",
       "Clerks                                         4773\n",
       "Pink Narcissus                                 4774\n",
       "Funny Ha Ha                                    4775\n",
       "In the Company of Men                          4776\n",
       "Manito                                         4777\n",
       "Rampage                                        4778\n",
       "Slacker                                        4779\n",
       "Dutch Kills                                    4780\n",
       "Dry Spell                                      4781\n",
       "Flywheel                                       4782\n",
       "Backmask                                       4783\n",
       "The Puffy Chair                                4784\n",
       "Stories of Our Lives                           4785\n",
       "Breaking Upwards                               4786\n",
       "All Superheroes Must Die                       4787\n",
       "Pink Flamingos                                 4788\n",
       "Clean                                          4789\n",
       "دایره                                          4790\n",
       "Tin Can Man                                    4791\n",
       "キュア                                            4792\n",
       "On The Downlow                                 4793\n",
       "Sanctuary: Quite a Conundrum                   4794\n",
       "Bang                                           4795\n",
       "Primer                                         4796\n",
       "Cavite                                         4797\n",
       "El Mariachi                                    4798\n",
       "Newlyweds                                      4799\n",
       "Signed, Sealed, Delivered                      4800\n",
       "Shanghai Calling                               4801\n",
       "My Date with Drew                              4802\n",
       "Length: 4803, dtype: int64"
      ]
     },
     "execution_count": 4,
     "metadata": {},
     "output_type": "execute_result"
    }
   ],
   "source": [
    "indices = pd.Series(movies_df.index, index = movies_df['original_title']).drop_duplicates()\n",
    "indices"
   ]
  },
  {
   "cell_type": "code",
   "execution_count": 5,
   "metadata": {},
   "outputs": [],
   "source": [
    "def get_recommendations(title, cos_similarity=cos_similarity):\n",
    "    idx = indices[title]\n",
    "    sim_scores = list(enumerate(cos_similarity[idx]))\n",
    "    sim_scores = sorted(sim_scores, key = lambda x:x[1],reverse = True)\n",
    "    sim_scores = sim_scores[1:11]\n",
    "    movies_indices = [i[0] for i in sim_scores]\n",
    "    return movies_df['original_title'].iloc[movies_indices]"
   ]
  },
  {
   "cell_type": "code",
   "execution_count": 6,
   "metadata": {},
   "outputs": [
    {
     "data": {
      "text/plain": [
       "3604                       Apollo 18\n",
       "2130                    The American\n",
       "634                       The Matrix\n",
       "1341                Obitaemyy Ostrov\n",
       "529                 Tears of the Sun\n",
       "1610                           Hanna\n",
       "311     The Adventures of Pluto Nash\n",
       "847                         Semi-Pro\n",
       "775                        Supernova\n",
       "2628             Blood and Chocolate\n",
       "Name: original_title, dtype: object"
      ]
     },
     "execution_count": 6,
     "metadata": {},
     "output_type": "execute_result"
    }
   ],
   "source": [
    "get_recommendations('Avatar')"
   ]
  },
  {
   "cell_type": "code",
   "execution_count": 7,
   "metadata": {},
   "outputs": [
    {
     "data": {
      "text/plain": [
       "3969                         Something Wicked\n",
       "616                                     Ted 2\n",
       "2689                       Our Family Wedding\n",
       "1576                               Bride Wars\n",
       "2290                             Just Married\n",
       "504                   The Secret Life of Pets\n",
       "866                        Bullet to the Head\n",
       "4576                                Blue Ruin\n",
       "3025    The Second Best Exotic Marigold Hotel\n",
       "3155                              Melancholia\n",
       "Name: original_title, dtype: object"
      ]
     },
     "execution_count": 7,
     "metadata": {},
     "output_type": "execute_result"
    }
   ],
   "source": [
    "get_recommendations('Newlyweds')"
   ]
  },
  {
   "cell_type": "code",
   "execution_count": 8,
   "metadata": {},
   "outputs": [
    {
     "data": {
      "text/plain": [
       "98                      The Hobbit: An Unexpected Journey\n",
       "19              The Hobbit: The Battle of the Five Armies\n",
       "262     The Lord of the Rings: The Fellowship of the Ring\n",
       "329         The Lord of the Rings: The Return of the King\n",
       "160                            How to Train Your Dragon 2\n",
       "1306                          Dragon Nest: Warriors' Dawn\n",
       "4612                                              Old Joy\n",
       "1524                                George and the Dragon\n",
       "2207                                            12 Rounds\n",
       "292                                                Eragon\n",
       "Name: original_title, dtype: object"
      ]
     },
     "execution_count": 8,
     "metadata": {},
     "output_type": "execute_result"
    }
   ],
   "source": [
    "get_recommendations('The Hobbit: The Desolation of Smaug')"
   ]
  },
  {
   "cell_type": "code",
   "execution_count": 9,
   "metadata": {},
   "outputs": [
    {
     "data": {
      "text/plain": [
       "38       The Amazing Spider-Man 2\n",
       "159                    Spider-Man\n",
       "5                    Spider-Man 3\n",
       "1572    Forgetting Sarah Marshall\n",
       "30                   Spider-Man 2\n",
       "572                          Hook\n",
       "143                           Pan\n",
       "4246                      Trucker\n",
       "1179              I Love You, Man\n",
       "641                      Due Date\n",
       "Name: original_title, dtype: object"
      ]
     },
     "execution_count": 9,
     "metadata": {},
     "output_type": "execute_result"
    }
   ],
   "source": [
    "get_recommendations('The Amazing Spider-Man')"
   ]
  }
 ],
 "metadata": {
  "kernelspec": {
   "display_name": "Python 3",
   "language": "python",
   "name": "python3"
  },
  "language_info": {
   "codemirror_mode": {
    "name": "ipython",
    "version": 3
   },
   "file_extension": ".py",
   "mimetype": "text/x-python",
   "name": "python",
   "nbconvert_exporter": "python",
   "pygments_lexer": "ipython3",
   "version": "3.7.3"
  }
 },
 "nbformat": 4,
 "nbformat_minor": 2
}
